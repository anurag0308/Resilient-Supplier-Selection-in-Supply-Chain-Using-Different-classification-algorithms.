{
 "cells": [
  {
   "cell_type": "markdown",
   "metadata": {},
   "source": [
    "def SELECTION(d, q):#▷ date and quantity\n",
    "    if AUC ≥ acc_a:\n",
    "        if AUC ≥ acc_b\n",
    "            return R lr1\n",
    "        else\n",
    "            if R_kb = R_lr1:\n",
    "                return R_lr2\n",
    "            else:\n",
    "                return R_lr1\n",
    "    else:\n",
    "        if AUC ≥ acc_b:\n",
    "            if R_ka = R_kb:\n",
    "                if R ka = R_lr1:\n",
    "                    return R_lr2\n",
    "                else\n",
    "                    return R_lr1\n",
    "            else\n",
    "                return R_ka\n",
    "        else\n",
    "            return R_ka"
   ]
  },
  {
   "cell_type": "code",
   "execution_count": null,
   "metadata": {},
   "outputs": [],
   "source": [
    "if "
   ]
  }
 ],
 "metadata": {
  "kernelspec": {
   "display_name": "Python 3",
   "language": "python",
   "name": "python3"
  },
  "language_info": {
   "codemirror_mode": {
    "name": "ipython",
    "version": 3
   },
   "file_extension": ".py",
   "mimetype": "text/x-python",
   "name": "python",
   "nbconvert_exporter": "python",
   "pygments_lexer": "ipython3",
   "version": "3.7.3"
  }
 },
 "nbformat": 4,
 "nbformat_minor": 2
}
